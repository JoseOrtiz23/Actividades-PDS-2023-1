{
 "cells": [
  {
   "cell_type": "markdown",
   "id": "bb4fa5b3",
   "metadata": {},
   "source": [
    "### Ejercicio 1 Digitalizacion de señal Analogica"
   ]
  },
  {
   "cell_type": "code",
   "execution_count": null,
   "id": "88705d61",
   "metadata": {},
   "outputs": [],
   "source": []
  }
 ],
 "metadata": {
  "kernelspec": {
   "display_name": "Python 3 (ipykernel)",
   "language": "python",
   "name": "python3"
  },
  "language_info": {
   "codemirror_mode": {
    "name": "ipython",
    "version": 3
   },
   "file_extension": ".py",
   "mimetype": "text/x-python",
   "name": "python",
   "nbconvert_exporter": "python",
   "pygments_lexer": "ipython3",
   "version": "3.9.13"
  }
 },
 "nbformat": 4,
 "nbformat_minor": 5
}
